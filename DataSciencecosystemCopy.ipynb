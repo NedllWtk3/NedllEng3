{
  "metadata": {
    "kernelspec": {
      "name": "python",
      "display_name": "Python (Pyodide)",
      "language": "python"
    },
    "language_info": {
      "codemirror_mode": {
        "name": "python",
        "version": 3
      },
      "file_extension": ".py",
      "mimetype": "text/x-python",
      "name": "python",
      "nbconvert_exporter": "python",
      "pygments_lexer": "ipython3",
      "version": "3.8"
    }
  },
  "nbformat_minor": 4,
  "nbformat": 4,
  "cells": [
    {
      "cell_type": "markdown",
      "source": "# Data Science Tools and Ecosystem ",
      "metadata": {}
    },
    {
      "cell_type": "markdown",
      "source": "## In this notebook, Data Science Tools and Ecosystem are summarized.",
      "metadata": {}
    },
    {
      "cell_type": "markdown",
      "source": "## Some of the popular languages that Data Scientists use are:\n1. Python\n2. SQL\n3. R\n4. Julia\n5. JavaScript\n6. Java\n7. SAS",
      "metadata": {
        "jp-MarkdownHeadingCollapsed": true
      }
    },
    {
      "cell_type": "markdown",
      "source": "## Some of the commonly used libraries used by Data Scientists include:\n1. Pandas\n2. Scikit-learn\n3. Matplotlib\n4. Numpy\n5. SciPy\n6. TensorFlow\n7. Plotly",
      "metadata": {}
    },
    {
      "cell_type": "markdown",
      "source": "| Data Science Tools |  \n| Tensorflow   |  \n| Apache Spark       |  \n| Skit-learn         |",
      "metadata": {}
    },
    {
      "cell_type": "markdown",
      "source": "### Below are a few examples of evaluating arithmetic expressions in Python:",
      "metadata": {}
    },
    {
      "cell_type": "markdown",
      "source": "result = 2 + 3 * 4\nprint(result)\n\nresult = (2 + 3) * 4\nprint(result)\n\nresult = 10/3\nprint(result)",
      "metadata": {}
    },
    {
      "cell_type": "markdown",
      "source": "_This a simple arithmetic expression to mutiply then add integers_",
      "metadata": {}
    },
    {
      "cell_type": "code",
      "source": "result = 2*3+5+6\nprint(result)",
      "metadata": {
        "trusted": true
      },
      "outputs": [
        {
          "name": "stdout",
          "text": "17\n",
          "output_type": "stream"
        }
      ],
      "execution_count": 20
    },
    {
      "cell_type": "markdown",
      "source": "_This will convert 200 minutes to hours by diving by 60_",
      "metadata": {}
    },
    {
      "cell_type": "code",
      "source": "H = 60\nM = 200\nresult1 = float(M/H)\nresult2 = int(M/H)\nprint(\"As a float.......: \" + str(result1))\nprint(\"And as an integer: \" + str(result2))",
      "metadata": {
        "trusted": true
      },
      "outputs": [
        {
          "name": "stdout",
          "text": "As a float.......: 3.3333333333333335\nAnd as an integer: 3\n",
          "output_type": "stream"
        }
      ],
      "execution_count": 21
    },
    {
      "cell_type": "markdown",
      "source": "## Author\nPeter Smits",
      "metadata": {}
    }
  ]
}