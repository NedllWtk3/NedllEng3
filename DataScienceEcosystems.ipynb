{
 "cells": [
  {
   "cell_type": "markdown",
   "id": "8a97e4c0-5ef2-4534-afcf-1d35b447277a",
   "metadata": {},
   "source": [
    "## Authors:\n",
    "### Lakshmi Holla and Niveditha Pandith\n",
    "##### Peter"
   ]
  },
  {
   "cell_type": "code",
   "execution_count": null,
   "id": "63f52203-10e3-4139-93d7-1f18c5f492fe",
   "metadata": {},
   "outputs": [],
   "source": []
  }
 ],
 "metadata": {
  "kernelspec": {
   "display_name": "Python 3 (ipykernel)",
   "language": "python",
   "name": "python3"
  },
  "language_info": {
   "codemirror_mode": {
    "name": "ipython",
    "version": 3
   },
   "file_extension": ".py",
   "mimetype": "text/x-python",
   "name": "python",
   "nbconvert_exporter": "python",
   "pygments_lexer": "ipython3",
   "version": "3.11.7"
  }
 },
 "nbformat": 4,
 "nbformat_minor": 5
}
